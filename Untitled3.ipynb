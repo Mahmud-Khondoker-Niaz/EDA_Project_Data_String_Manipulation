{
 "cells": [
  {
   "cell_type": "code",
   "execution_count": 21,
   "id": "82951098-9192-4867-aa2d-20c540b4e349",
   "metadata": {},
   "outputs": [
    {
     "data": {
      "text/html": [
       "<div>\n",
       "<style scoped>\n",
       "    .dataframe tbody tr th:only-of-type {\n",
       "        vertical-align: middle;\n",
       "    }\n",
       "\n",
       "    .dataframe tbody tr th {\n",
       "        vertical-align: top;\n",
       "    }\n",
       "\n",
       "    .dataframe thead th {\n",
       "        text-align: right;\n",
       "    }\n",
       "</style>\n",
       "<table border=\"1\" class=\"dataframe\">\n",
       "  <thead>\n",
       "    <tr style=\"text-align: right;\">\n",
       "      <th></th>\n",
       "      <th>date</th>\n",
       "      <th>number_of_strikes</th>\n",
       "      <th>center_point_geom</th>\n",
       "    </tr>\n",
       "  </thead>\n",
       "  <tbody>\n",
       "    <tr>\n",
       "      <th>0</th>\n",
       "      <td>2016-08-05</td>\n",
       "      <td>16</td>\n",
       "      <td>POINT(-101.5 24.7)</td>\n",
       "    </tr>\n",
       "    <tr>\n",
       "      <th>1</th>\n",
       "      <td>2016-08-05</td>\n",
       "      <td>16</td>\n",
       "      <td>POINT(-85 34.3)</td>\n",
       "    </tr>\n",
       "    <tr>\n",
       "      <th>2</th>\n",
       "      <td>2016-08-05</td>\n",
       "      <td>16</td>\n",
       "      <td>POINT(-89 41.4)</td>\n",
       "    </tr>\n",
       "    <tr>\n",
       "      <th>3</th>\n",
       "      <td>2016-08-05</td>\n",
       "      <td>16</td>\n",
       "      <td>POINT(-89.8 30.7)</td>\n",
       "    </tr>\n",
       "    <tr>\n",
       "      <th>4</th>\n",
       "      <td>2016-08-05</td>\n",
       "      <td>16</td>\n",
       "      <td>POINT(-86.2 37.9)</td>\n",
       "    </tr>\n",
       "  </tbody>\n",
       "</table>\n",
       "</div>"
      ],
      "text/plain": [
       "         date  number_of_strikes   center_point_geom\n",
       "0  2016-08-05                 16  POINT(-101.5 24.7)\n",
       "1  2016-08-05                 16     POINT(-85 34.3)\n",
       "2  2016-08-05                 16     POINT(-89 41.4)\n",
       "3  2016-08-05                 16   POINT(-89.8 30.7)\n",
       "4  2016-08-05                 16   POINT(-86.2 37.9)"
      ]
     },
     "execution_count": 21,
     "metadata": {},
     "output_type": "execute_result"
    }
   ],
   "source": [
    "import matplotlib.pyplot as plt\n",
    "import pandas as pd\n",
    "import seaborn as sns\n",
    "\n",
    "df = pd.read_csv('NOAA LS (16-18).csv')\n",
    "df.head()\n",
    "\n"
   ]
  },
  {
   "cell_type": "code",
   "execution_count": null,
   "id": "7679270b-94d8-4eed-bad7-28e33266310f",
   "metadata": {},
   "outputs": [],
   "source": [
    "# Convert the `date` column to datetime.\n",
    "df['date'] = pd.to_datetime(df['date'])\n",
    "# Create four new columns.\n",
    "df['week'] = df['date'].dt.strftime('%Y-W%V')\n",
    "df['month'] = df['date'].dt.strftime('%Y-%m')\n",
    "df['quarter'] = df['date'].dt.to_period('Q').dt.strftime('%Y-Q%q')\n",
    "df['year'] = df['date'].dt.strftime('%Y')\n",
    "df.head(10)"
   ]
  },
  {
   "cell_type": "code",
   "execution_count": null,
   "id": "87ca2b8d-5ea9-4c0f-b58c-5e2c94965cef",
   "metadata": {},
   "outputs": [],
   "source": [
    "# Create a new dataframe view of just 2018 data, summed by week.\n",
    "df_by_week_2018 = (\n",
    "    df[df['year'] == 2018] \n",
    "    .groupby('week')\n",
    "    .sum(numeric_only=True) \n",
    "    .reset_index()\n",
    ")\n",
    "# NOTE: In pandas v.2.X+ you must set 'numeric_only=True' in the sum() function or else it will throw an error"
   ]
  },
  {
   "cell_type": "code",
   "execution_count": null,
   "id": "fb72e6b8-c34b-487b-8a5e-9d1617b2bb77",
   "metadata": {},
   "outputs": [],
   "source": [
    "# Plot a bar graph of weekly strike totals in 2018.\n",
    "plt.bar(x = df_by_week_2018['week'], height = df_by_week_2018['number_of_strikes'])\n",
    "plt.plot()\n",
    "plt.xlabel(\"Week number\")\n",
    "plt.ylabel(\"Number of lightning strikes\")\n",
    "plt.title(\"Number of lightning strikes per week (2018)\");"
   ]
  },
  {
   "cell_type": "code",
   "execution_count": null,
   "id": "cfaacda6-9b0a-4f69-b3cc-2291c1ae6e07",
   "metadata": {},
   "outputs": [],
   "source": [
    "plt.figure(figsize = (20, 5)) # Increase output size.\n",
    "plt.bar(x = df_by_week_2018['week'], height = df_by_week_2018['number_of_strikes'])\n",
    "plt.plot()\n",
    "plt.xlabel(\"Week number\")\n",
    "plt.ylabel(\"Number of lightning strikes\")\n",
    "plt.title(\"Number of lightning strikes per week (2018)\")\n",
    "plt.xticks(rotation = 45, fontsize = 8) # Rotate x-axis labels and decrease font size.\n",
    "\n",
    "plt.show()"
   ]
  },
  {
   "cell_type": "code",
   "execution_count": null,
   "id": "6ef0db40-61d7-4fd9-8de0-ad9f84266d9a",
   "metadata": {},
   "outputs": [],
   "source": [
    "df_by_quarter = df['number_of_strikes'].div(1000000)\n",
    "df_by_quarter.head()"
   ]
  }
 ],
 "metadata": {
  "kernelspec": {
   "display_name": "Python [conda env:base] *",
   "language": "python",
   "name": "conda-base-py"
  },
  "language_info": {
   "codemirror_mode": {
    "name": "ipython",
    "version": 3
   },
   "file_extension": ".py",
   "mimetype": "text/x-python",
   "name": "python",
   "nbconvert_exporter": "python",
   "pygments_lexer": "ipython3",
   "version": "3.13.5"
  }
 },
 "nbformat": 4,
 "nbformat_minor": 5
}
